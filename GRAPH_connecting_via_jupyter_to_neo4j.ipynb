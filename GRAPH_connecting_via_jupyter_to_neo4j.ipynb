{
 "cells": [
  {
   "cell_type": "code",
   "execution_count": null,
   "metadata": {},
   "outputs": [],
   "source": [
    "#####https://community.neo4j.com/t/how-to-install-neo4j-for-python-jupyter-lab/14181/7\n",
    "#####pip install py2neo"
   ]
  },
  {
   "cell_type": "code",
   "execution_count": 14,
   "metadata": {},
   "outputs": [
    {
     "data": {
      "text/plain": [
       "[]"
      ]
     },
     "execution_count": 14,
     "metadata": {},
     "output_type": "execute_result"
    }
   ],
   "source": [
    "from py2neo import Graph\n",
    "graph = Graph(\"bolt://localhost:7687\", auth=(\"neo4j\", \"password\"))\n",
    "\n",
    "query = \"MATCH (n) DETACH DELETE n\"\n",
    "graph.run(query).data()\n",
    "query = \"MATCH (n) return n\"\n",
    "graph.run(query).data()"
   ]
  },
  {
   "cell_type": "code",
   "execution_count": 15,
   "metadata": {},
   "outputs": [
    {
     "data": {
      "text/plain": [
       "[]"
      ]
     },
     "execution_count": 15,
     "metadata": {},
     "output_type": "execute_result"
    }
   ],
   "source": [
    "query = \"CREATE (rupert:Person { firstname: 'Rupert', age: 24, city:'London' }), \\\n",
    "                (nargess:Person { firstname: 'Nargess', age: 21 }), \\\n",
    "                (katherine:Person { firstname: 'Katherine', age: 24, city:'London' })\"\n",
    "graph.run(query).data()\n",
    "\n",
    "query = \"CREATE (sailing:Hobby { name: 'Sailing' }), \\\n",
    "                (travelling:Hobby { name: 'Travelling' }), \\\n",
    "                (champagne:Hobby { name: 'Champagne'})\"\n",
    "graph.run(query).data()\n",
    "\n",
    "query = \"MATCH (p:Person {firstname: 'Rupert'}),(o:Person {firstname: 'Nargess' }) MERGE (p)-[r:KNOWS]->(o)\"\n",
    "graph.run(query).data()\n",
    "query = \"MATCH (p:Person {firstname: 'Rupert'}),(o:Person {firstname: 'Katherine' }) MERGE (p)-[r:IS_MARRIED_TO]->(o)\"\n",
    "graph.run(query).data()\n",
    "query = \"MATCH (p:Person {firstname: 'Rupert'}),(o:Hobby {name: 'Champagne' }) MERGE (p)-[r:LIKES]->(o)\"\n",
    "graph.run(query).data()\n",
    "query = \"MATCH (p:Person {firstname: 'Nargess'}),(o:Hobby {name: 'Travelling' }) MERGE (p)-[r:LIKES]->(o)\"\n",
    "graph.run(query).data()\n",
    "query = \"MATCH (p:Person {firstname: 'Katherine'}),(o:Hobby {name: 'Travelling' }) MERGE (p)-[r:LIKES]->(o)\"\n",
    "graph.run(query).data()\n",
    "query = \"MATCH (p:Person {firstname: 'Nargess'}),(o:Hobby {name: 'Sailing' }) MERGE (p)-[r:LIKES]->(o)\"\n",
    "graph.run(query).data()"
   ]
  },
  {
   "cell_type": "code",
   "execution_count": 16,
   "metadata": {},
   "outputs": [
    {
     "data": {
      "text/plain": [
       "[{'n': (_154:Person {age: 24, city: 'London', firstname: 'Rupert'})},\n",
       " {'n': (_155:Person {age: 21, firstname: 'Nargess'})},\n",
       " {'n': (_156:Person {age: 24, city: 'London', firstname: 'Katherine'})},\n",
       " {'n': (_157:Hobby {name: 'Sailing'})},\n",
       " {'n': (_158:Hobby {name: 'Travelling'})},\n",
       " {'n': (_159:Hobby {name: 'Champagne'})}]"
      ]
     },
     "execution_count": 16,
     "metadata": {},
     "output_type": "execute_result"
    }
   ],
   "source": [
    "query = \"MATCH (n) return n\"\n",
    "graph.run(query).data()"
   ]
  },
  {
   "cell_type": "code",
   "execution_count": 18,
   "metadata": {},
   "outputs": [
    {
     "data": {
      "text/plain": [
       "[{'a': (_154:Person {age: 24, city: 'London', firstname: 'Rupert'}),\n",
       "  'type(r)': 'LIKES',\n",
       "  'b': (_159:Hobby {name: 'Champagne'})},\n",
       " {'a': (_154:Person {age: 24, city: 'London', firstname: 'Rupert'}),\n",
       "  'type(r)': 'IS_MARRIED_TO',\n",
       "  'b': (_156:Person {age: 24, city: 'London', firstname: 'Katherine'})},\n",
       " {'a': (_154:Person {age: 24, city: 'London', firstname: 'Rupert'}),\n",
       "  'type(r)': 'KNOWS',\n",
       "  'b': (_155:Person {age: 21, firstname: 'Nargess'})},\n",
       " {'a': (_155:Person {age: 21, firstname: 'Nargess'}),\n",
       "  'type(r)': 'LIKES',\n",
       "  'b': (_157:Hobby {name: 'Sailing'})},\n",
       " {'a': (_155:Person {age: 21, firstname: 'Nargess'}),\n",
       "  'type(r)': 'LIKES',\n",
       "  'b': (_158:Hobby {name: 'Travelling'})},\n",
       " {'a': (_155:Person {age: 21, firstname: 'Nargess'}),\n",
       "  'type(r)': 'KNOWS',\n",
       "  'b': (_154:Person {age: 24, city: 'London', firstname: 'Rupert'})},\n",
       " {'a': (_156:Person {age: 24, city: 'London', firstname: 'Katherine'}),\n",
       "  'type(r)': 'LIKES',\n",
       "  'b': (_158:Hobby {name: 'Travelling'})},\n",
       " {'a': (_156:Person {age: 24, city: 'London', firstname: 'Katherine'}),\n",
       "  'type(r)': 'IS_MARRIED_TO',\n",
       "  'b': (_154:Person {age: 24, city: 'London', firstname: 'Rupert'})},\n",
       " {'a': (_157:Hobby {name: 'Sailing'}),\n",
       "  'type(r)': 'LIKES',\n",
       "  'b': (_155:Person {age: 21, firstname: 'Nargess'})},\n",
       " {'a': (_158:Hobby {name: 'Travelling'}),\n",
       "  'type(r)': 'LIKES',\n",
       "  'b': (_156:Person {age: 24, city: 'London', firstname: 'Katherine'})},\n",
       " {'a': (_158:Hobby {name: 'Travelling'}),\n",
       "  'type(r)': 'LIKES',\n",
       "  'b': (_155:Person {age: 21, firstname: 'Nargess'})},\n",
       " {'a': (_159:Hobby {name: 'Champagne'}),\n",
       "  'type(r)': 'LIKES',\n",
       "  'b': (_154:Person {age: 24, city: 'London', firstname: 'Rupert'})}]"
      ]
     },
     "execution_count": 18,
     "metadata": {},
     "output_type": "execute_result"
    }
   ],
   "source": [
    "query = \"MATCH (a)-[r]-(b) RETURN a, type(r), b\"\n",
    "graph.run(query).data()"
   ]
  },
  {
   "cell_type": "code",
   "execution_count": 20,
   "metadata": {},
   "outputs": [
    {
     "data": {
      "text/plain": [
       "[{'person': (_156:Person {age: 24, city: 'London', firstname: 'Katherine'})},\n",
       " {'person': (_155:Person {age: 21, firstname: 'Nargess'})}]"
      ]
     },
     "execution_count": 20,
     "metadata": {},
     "output_type": "execute_result"
    }
   ],
   "source": [
    "query = \"MATCH (rupert:Person { firstname: 'Rupert'})-->(person:Person) RETURN person\"\n",
    "graph.run(query).data()"
   ]
  },
  {
   "cell_type": "code",
   "execution_count": 21,
   "metadata": {},
   "outputs": [
    {
     "data": {
      "text/plain": [
       "[{'rupert': (_154:Person {age: 24, city: 'London', firstname: 'Rupert'}),\n",
       "  'person': (_156:Person {age: 24, city: 'London', firstname: 'Katherine'})},\n",
       " {'rupert': (_154:Person {age: 24, city: 'London', firstname: 'Rupert'}),\n",
       "  'person': (_155:Person {age: 21, firstname: 'Nargess'})}]"
      ]
     },
     "execution_count": 21,
     "metadata": {},
     "output_type": "execute_result"
    }
   ],
   "source": [
    "query = \"MATCH (rupert:Person { firstname: 'Rupert'})-->(person:Person) RETURN rupert, person\"\n",
    "graph.run(query).data()"
   ]
  },
  {
   "cell_type": "code",
   "execution_count": 22,
   "metadata": {},
   "outputs": [
    {
     "data": {
      "text/plain": [
       "[{'rupert': (_154:Person {age: 24, city: 'London', firstname: 'Rupert'}),\n",
       "  'type(r)': 'IS_MARRIED_TO',\n",
       "  'person': (_156:Person {age: 24, city: 'London', firstname: 'Katherine'})},\n",
       " {'rupert': (_154:Person {age: 24, city: 'London', firstname: 'Rupert'}),\n",
       "  'type(r)': 'KNOWS',\n",
       "  'person': (_155:Person {age: 21, firstname: 'Nargess'})}]"
      ]
     },
     "execution_count": 22,
     "metadata": {},
     "output_type": "execute_result"
    }
   ],
   "source": [
    "query = \"MATCH (rupert:Person { firstname: 'Rupert'})-[r]->(person:Person) RETURN rupert, type(r), person\"\n",
    "graph.run(query).data()"
   ]
  },
  {
   "cell_type": "code",
   "execution_count": 23,
   "metadata": {},
   "outputs": [
    {
     "data": {
      "text/plain": [
       "[{'person': (_156:Person {age: 24, city: 'London', firstname: 'Katherine'}),\n",
       "  'hobby': (_158:Hobby {name: 'Travelling'})},\n",
       " {'person': (_155:Person {age: 21, firstname: 'Nargess'}),\n",
       "  'hobby': (_157:Hobby {name: 'Sailing'})},\n",
       " {'person': (_155:Person {age: 21, firstname: 'Nargess'}),\n",
       "  'hobby': (_158:Hobby {name: 'Travelling'})}]"
      ]
     },
     "execution_count": 23,
     "metadata": {},
     "output_type": "execute_result"
    }
   ],
   "source": [
    "query = \"MATCH (rupert:Person { firstname: 'Rupert'})-->(person)-[:LIKES]->(hobby) RETURN person, hobby\"\n",
    "graph.run(query).data()"
   ]
  },
  {
   "cell_type": "code",
   "execution_count": 25,
   "metadata": {},
   "outputs": [
    {
     "data": {
      "text/plain": [
       "[{'person': (_156:Person {age: 24, city: 'London', firstname: 'Katherine'}),\n",
       "  'COUNT(hobby)': 1},\n",
       " {'person': (_155:Person {age: 21, firstname: 'Nargess'}), 'COUNT(hobby)': 2}]"
      ]
     },
     "execution_count": 25,
     "metadata": {},
     "output_type": "execute_result"
    }
   ],
   "source": [
    "query = \"MATCH (rupert:Person { firstname: 'Rupert'})-->(person)-[:LIKES]->(hobby) RETURN person, COUNT(hobby)\"\n",
    "graph.run(query).data()"
   ]
  },
  {
   "cell_type": "code",
   "execution_count": 26,
   "metadata": {},
   "outputs": [
    {
     "data": {
      "text/plain": [
       "[{'count(*)': 6}]"
      ]
     },
     "execution_count": 26,
     "metadata": {},
     "output_type": "execute_result"
    }
   ],
   "source": [
    "query = 'MATCH (n) RETURN count(*)'\n",
    "graph.run(query).data()"
   ]
  },
  {
   "cell_type": "code",
   "execution_count": null,
   "metadata": {},
   "outputs": [],
   "source": []
  },
  {
   "cell_type": "code",
   "execution_count": null,
   "metadata": {},
   "outputs": [],
   "source": []
  },
  {
   "cell_type": "code",
   "execution_count": null,
   "metadata": {},
   "outputs": [],
   "source": []
  }
 ],
 "metadata": {
  "kernelspec": {
   "display_name": "Python 3",
   "language": "python",
   "name": "python3"
  },
  "language_info": {
   "codemirror_mode": {
    "name": "ipython",
    "version": 3
   },
   "file_extension": ".py",
   "mimetype": "text/x-python",
   "name": "python",
   "nbconvert_exporter": "python",
   "pygments_lexer": "ipython3",
   "version": "3.7.5"
  }
 },
 "nbformat": 4,
 "nbformat_minor": 2
}
